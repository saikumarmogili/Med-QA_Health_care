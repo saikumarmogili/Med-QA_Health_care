{
 "cells": [
  {
   "cell_type": "markdown",
   "id": "4f1f8df0",
   "metadata": {},
   "source": [
    "# MedQuAD RAG (Mini Showcase)\n",
    "**Goal:** run a tiny, reproducible demo on a small sample corpus.\n",
    "No big downloads; shows retrieval → answer.\n"
   ]
  },
  {
   "cell_type": "code",
   "execution_count": null,
   "id": "e7a32fc6",
   "metadata": {},
   "outputs": [],
   "source": [
    "!pip -q install sentence-transformers faiss-cpu pandas scikit-learn tqdm"
   ]
  },
  {
   "cell_type": "markdown",
   "id": "99f0e217",
   "metadata": {},
   "source": [
    "## 1) Create a tiny sample dataset (4 QA pairs)"
   ]
  },
  {
   "cell_type": "code",
   "execution_count": null,
   "id": "09345f6f",
   "metadata": {},
   "outputs": [],
   "source": [
    "import pandas as pd\n",
    "data = pd.DataFrame([\n",
    "  {\"question\":\"Can ibuprofen cause stomach pain?\",\n",
    "   \"answer\":\"Ibuprofen is an NSAID. It can cause gastrointestinal irritation including stomach pain, heartburn, and rarely bleeding or ulcers.\"},\n",
    "  {\"question\":\"What is a normal A1C level?\",\n",
    "   \"answer\":\"For many adults, an A1C below 5.7% is considered normal, 5.7–6.4% indicates prediabetes, and 6.5% or higher may indicate diabetes.\"},\n",
    "  {\"question\":\"Do antihistamines cause drowsiness?\",\n",
    "   \"answer\":\"Some antihistamines, especially first-generation agents, can cause drowsiness. Newer, second-generation antihistamines are less sedating.\"},\n",
    "  {\"question\":\"What is a myocardial infarction?\",\n",
    "   \"answer\":\"A myocardial infarction is a heart attack, which occurs when blood flow to part of the heart is blocked.\"}\n",
    "])\n",
    "data.head()"
   ]
  },
  {
   "cell_type": "markdown",
   "id": "3cdf6de6",
   "metadata": {},
   "source": [
    "## 2) Build passages (2–3 sentence chunks)"
   ]
  },
  {
   "cell_type": "code",
   "execution_count": null,
   "id": "502c642e",
   "metadata": {},
   "outputs": [],
   "source": [
    "import re\n",
    "SENT_SPLIT = re.compile(r'(?<=[.!?])\\s+(?=[A-Z0-9(])')\n",
    "def chunk_passages(text, window=3, overlap=1):\n",
    "    sents = [s.strip() for s in SENT_SPLIT.split(str(text)) if s.strip()]\n",
    "    chunks, i = [], 0\n",
    "    while i < len(sents):\n",
    "        ch = \" \".join(sents[i:i+window])\n",
    "        if ch: chunks.append(ch)\n",
    "        i += max(1, window - overlap)\n",
    "    return chunks or [str(text).strip()]\n",
    "\n",
    "corpus = []\n",
    "qid2docids = {}\n",
    "for qi, row in data.iterrows():\n",
    "    chunks = chunk_passages(row['answer'])\n",
    "    ids = []\n",
    "    for j, ch in enumerate(chunks):\n",
    "        pid = f'd{qi}_{j}'\n",
    "        corpus.append({'doc_id': pid, 'text': ch})\n",
    "        ids.append(pid)\n",
    "    qid2docids[f'q{qi}'] = set(ids)\n",
    "import pandas as pd\n",
    "corpus_df = pd.DataFrame(corpus)\n",
    "corpus_df"
   ]
  },
  {
   "cell_type": "markdown",
   "id": "63fa73ca",
   "metadata": {},
   "source": [
    "## 3) Embed + FAISS index (small model for speed)"
   ]
  },
  {
   "cell_type": "code",
   "execution_count": null,
   "id": "6c7e3511",
   "metadata": {},
   "outputs": [],
   "source": [
    "from sentence_transformers import SentenceTransformer\n",
    "import faiss, numpy as np\n",
    "model = SentenceTransformer('sentence-transformers/msmarco-distilbert-base-v4')\n",
    "passage_ids = corpus_df['doc_id'].tolist()\n",
    "passages = corpus_df['text'].tolist()\n",
    "emb = model.encode(passages, convert_to_numpy=True, normalize_embeddings=True)\n",
    "index = faiss.IndexFlatIP(emb.shape[1])\n",
    "index.add(emb)\n",
    "def dense_retrieve(query, topn=10):\n",
    "    q = model.encode([query], convert_to_numpy=True, normalize_embeddings=True)\n",
    "    D, I = index.search(q, topn)\n",
    "    return [(passage_ids[i], float(D[0][j])) for j, i in enumerate(I[0])]\n"
   ]
  },
  {
   "cell_type": "markdown",
   "id": "51370a4c",
   "metadata": {},
   "source": [
    "## 4) ask() → top-1 extractive answer"
   ]
  },
  {
   "cell_type": "code",
   "execution_count": null,
   "id": "82935570",
   "metadata": {},
   "outputs": [],
   "source": [
    "def ask(query, topn=10):\n",
    "    cand = dense_retrieve(query, topn=topn)\n",
    "    if not cand: return '(no result)', []\n",
    "    pid = cand[0][0]\n",
    "    text = corpus_df.set_index('doc_id').loc[pid, 'text']\n",
    "    return text, cand\n",
    "ans, cand = ask('Can ibuprofen cause stomach pain?')\n",
    "ans"
   ]
  },
  {
   "cell_type": "markdown",
   "id": "d1c2e452",
   "metadata": {},
   "source": [
    "## 5) Tiny IR metrics (MRR@10 / Recall@10)"
   ]
  },
  {
   "cell_type": "code",
   "execution_count": null,
   "id": "b157848f",
   "metadata": {},
   "outputs": [],
   "source": [
    "import numpy as np\n",
    "def mrr_at_k(rel, ranked, k=10):\n",
    "    for i, pid in enumerate(ranked[:k], 1):\n",
    "        if pid in rel: return 1.0 / i\n",
    "    return 0.0\n",
    "def recall_at_k(rel, ranked, k=10):\n",
    "    return len(rel & set(ranked[:k])) / (len(rel) or 1)\n",
    "mrr = rec = 0.0\n",
    "for qid in qid2docids:\n",
    "    q = data.iloc[int(qid[1:])]['question']\n",
    "    _, cand = ask(q, topn=10)\n",
    "    ranked = [p for p,_ in cand]\n",
    "    rel = qid2docids[qid]\n",
    "    mrr += mrr_at_k(rel, ranked, 10)\n",
    "    rec += recall_at_k(rel, ranked, 10)\n",
    "N = len(qid2docids)\n",
    "{'MRR@10': round(mrr/N, 3), 'Recall@10': round(rec/N, 3)}"
   ]
  }
 ],
 "metadata": {},
 "nbformat": 4,
 "nbformat_minor": 5
}
